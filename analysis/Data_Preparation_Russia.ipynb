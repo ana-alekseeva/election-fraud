{
  "nbformat": 4,
  "nbformat_minor": 0,
  "metadata": {
    "colab": {
      "name": "Data_Preparation_Russia.ipynb",
      "provenance": [],
      "authorship_tag": "ABX9TyNqAJYE9bDqgyRsi3CGB0Hr",
      "include_colab_link": true
    },
    "kernelspec": {
      "name": "python3",
      "display_name": "Python 3"
    },
    "language_info": {
      "name": "python"
    }
  },
  "cells": [
    {
      "cell_type": "markdown",
      "metadata": {
        "id": "view-in-github",
        "colab_type": "text"
      },
      "source": [
        "<a href=\"https://colab.research.google.com/github/terabitiya/Data-Literacy-Project/blob/main/Data_Preparation_Russia.ipynb\" target=\"_parent\"><img src=\"https://colab.research.google.com/assets/colab-badge.svg\" alt=\"Open In Colab\"/></a>"
      ]
    },
    {
      "cell_type": "code",
      "execution_count": 1,
      "metadata": {
        "id": "F5tFyhAA8iBh"
      },
      "outputs": [],
      "source": [
        "%matplotlib inline\n",
        "\n",
        "import numpy as np\n",
        "import pylab as plt\n",
        "import seaborn as sns\n",
        "import pandas as pd"
      ]
    },
    {
      "cell_type": "code",
      "source": [
        "from google.colab import drive\n",
        "drive.mount('/content/drive',force_remount=True)"
      ],
      "metadata": {
        "colab": {
          "base_uri": "https://localhost:8080/"
        },
        "id": "eqd4a2Ie80i3",
        "outputId": "457fab66-13ed-45af-e965-3a10d44b2d1f"
      },
      "execution_count": 2,
      "outputs": [
        {
          "output_type": "stream",
          "name": "stdout",
          "text": [
            "Mounted at /content/drive\n"
          ]
        }
      ]
    },
    {
      "cell_type": "code",
      "source": [
        "path = '/content/drive/MyDrive/Tuebingen/Data Literacy/Project/'\n",
        "data_rus = pd.read_csv(path+'2021.csv.zip')\n",
        "data_rus.shape"
      ],
      "metadata": {
        "colab": {
          "base_uri": "https://localhost:8080/"
        },
        "id": "xelt1bPC88n6",
        "outputId": "286c36ac-c675-4e68-970b-c1dd951c10b6"
      },
      "execution_count": 11,
      "outputs": [
        {
          "output_type": "execute_result",
          "data": {
            "text/plain": [
              "(96325, 32)"
            ]
          },
          "metadata": {},
          "execution_count": 11
        }
      ]
    },
    {
      "cell_type": "code",
      "source": [
        "data_rus = data_rus.rename(columns={'1. Политическая партия \"КОММУНИСТИЧЕСКАЯ ПАРТИЯ РОССИЙСКОЙ ФЕДЕРАЦИИ\"': \"CPRF\",\n",
        "                            '2. Политическая партия \"Российская экологическая партия \"ЗЕЛЁНЫЕ\"':'Green',\n",
        "                            '3. Политическая партия ЛДПР – Либерально-демократическая партия России':'LDPR',\n",
        "                            '4. Политическая партия \"НОВЫЕ ЛЮДИ\"':'New_People',\n",
        "                            '5. Всероссийская политическая партия \"ЕДИНАЯ РОССИЯ\"':'UR',\n",
        "                            '6. Партия СПРАВЕДЛИВАЯ РОССИЯ – ЗА ПРАВДУ':'Just',\n",
        "                            '7. Политическая партия \"Российская объединенная демократическая партия \"ЯБЛОКО\"':'Yabloko',\n",
        "                            '8. Всероссийская политическая партия \"ПАРТИЯ РОСТА\"':'Growth',\n",
        "                            '9. Политическая партия РОССИЙСКАЯ ПАРТИЯ СВОБОДЫ И СПРАВЕДЛИВОСТИ':'Freedom_and_Just',\n",
        "                            '10. Политическая партия КОММУНИСТИЧЕСКАЯ ПАРТИЯ КОММУНИСТЫ РОССИИ':'Communist_party',\n",
        "                            '11. Политическая партия \"Гражданская Платформа\"':'Civil_Platform',\n",
        "                            '12. Политическая партия ЗЕЛЕНАЯ АЛЬТЕРНАТИВА':'Green_Alternative',\n",
        "                            '13. ВСЕРОССИЙСКАЯ ПОЛИТИЧЕСКАЯ ПАРТИЯ \"РОДИНА\"':'Rodina',\n",
        "                            '14. ПАРТИЯ ПЕНСИОНЕРОВ':'Pensioners'\n",
        "                            })"
      ],
      "metadata": {
        "id": "SgXvjo1F9MTL"
      },
      "execution_count": 12,
      "outputs": []
    },
    {
      "cell_type": "code",
      "source": [
        "column_voters = 'Число избирателей, внесенных в список избирателей на момент окончания голосования'\n",
        "electronic_voters = data_rus.loc[data_rus[column_voters]>10000][column_voters]\n",
        "traditional_voters = data_rus.loc[data_rus[column_voters]<=10000][column_voters]\n",
        "\n",
        "fig,axes = plt.subplots(1,2,figsize=(10,4))\n",
        "\n",
        "sns.histplot(ax=axes[0],data=traditional_voters, bins=100,kde=True, color='#313695').set_title('Traditional Voting')\n",
        "axes[0].set(xlabel='Registered Voters in a Precinct')\n",
        "sns.histplot(ax=axes[1],data=electronic_voters,color='#f46d43').set_title('Virtual Voting')\n",
        "axes[1].set(xlabel='Registered Voters in a Precinct')\n",
        "\n",
        "plt.show()"
      ],
      "metadata": {
        "colab": {
          "base_uri": "https://localhost:8080/",
          "height": 295
        },
        "id": "D1AEa31_9PH3",
        "outputId": "cb021957-ef08-46f9-a8a7-13f720e39106"
      },
      "execution_count": 13,
      "outputs": [
        {
          "output_type": "display_data",
          "data": {
            "image/png": "[encoded data removed]",
            "text/plain": [
              "<Figure size 720x288 with 2 Axes>"
            ]
          },
          "metadata": {
            "needs_background": "light"
          }
        }
      ]
    },
    {
      "cell_type": "code",
      "source": [
        "# removing the polling stations where the number of registered voters is equal to 0, the number of given ballots is 0, the number of received ballots is 0\n",
        "# registered voters\n",
        "data_rus = data_rus.loc[(data_rus[column_voters]>0),:]\n",
        "# given\n",
        "data_rus = data_rus.loc[(data_rus['Число избирательных бюллетеней, выданных избирателям, проголосовавшим досрочно']>0) |\n",
        "                (data_rus['Число избирательных бюллетеней, выданных в помещении для голосования в день голосования']>0) |\n",
        "                (data_rus['Число избирательных бюллетеней, выданных вне помещения для голосования в день голосования']>0),:]\n",
        "# received\n",
        "data_rus = data_rus.loc[((data_rus['Число действительных избирательных бюллетеней']+data_rus['Число недействительных избирательных бюллетеней'])>0),:]"
      ],
      "metadata": {
        "id": "gZpMyTtO9SlT"
      },
      "execution_count": 14,
      "outputs": []
    },
    {
      "cell_type": "code",
      "source": [
        "pd.to_pickle(data_rus,path+'data_rus.pkl')"
      ],
      "metadata": {
        "id": "UjMT3Uxn9Wti"
      },
      "execution_count": 15,
      "outputs": []
    }
  ]
}
